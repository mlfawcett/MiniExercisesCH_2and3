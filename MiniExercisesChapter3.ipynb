{
 "cells": [
  {
   "cell_type": "markdown",
   "metadata": {},
   "source": [
    "# Chapter 3 Exercises"
   ]
  },
  {
   "cell_type": "code",
   "execution_count": 1,
   "metadata": {},
   "outputs": [
    {
     "name": "stdout",
     "output_type": "stream",
     "text": [
      "Terri\n",
      "Eric\n",
      "Robin\n",
      "Pete\n"
     ]
    }
   ],
   "source": [
    "'''\n",
    "Exercise 3.1 - Names: Store the names of a few of your friends in a list called \"names\". \n",
    "Print each person's name by accessing each element in the list, one at a time.\n",
    "'''\n",
    "\n",
    "names = [\"Terri\", \"Eric\", \"Robin\", \"Pete\"]\n",
    "print(names[0])\n",
    "print(names[1])\n",
    "print(names[2])\n",
    "print(names[3])"
   ]
  },
  {
   "cell_type": "code",
   "execution_count": 2,
   "metadata": {},
   "outputs": [
    {
     "name": "stdout",
     "output_type": "stream",
     "text": [
      "How are you Terri\n",
      "How are you Eric\n",
      "How are you Robin\n",
      "How are you Pete\n"
     ]
    }
   ],
   "source": [
    "'''\n",
    "Exercise 3.2 - Greetings: Using the list from Exercise 3.1, print a message for each \n",
    "person in your list. The text of the message should be the same, but each message should \n",
    "be personalized with the person's name.\n",
    "'''\n",
    "\n",
    "for eachName in names:\n",
    "    print(\"How are you\", eachName)"
   ]
  },
  {
   "cell_type": "code",
   "execution_count": 3,
   "metadata": {},
   "outputs": [
    {
     "name": "stdout",
     "output_type": "stream",
     "text": [
      "I would like to own a Table Saw\n",
      "I would like to own a Router\n",
      "I would like to own a Jointer\n",
      "I would like to own a Band Saw\n",
      "I would like to own a Planer\n"
     ]
    }
   ],
   "source": [
    "'''\n",
    "Exercise 3.3 - Your Own List: Think of a category of things you like, such as types of \n",
    "cars (Toyota, Honda, Ford) or foods (Indian, Chinese, Italian), and make a list that \n",
    "stores several examples. Use your list to print a series of statements about these items \n",
    "such as, \"I would like to own a Honda car.\"\n",
    "'''\n",
    "\n",
    "woodWorkingTools = [\"Table Saw\", \"Router\", \"Jointer\", \"Band Saw\", \"Planer\"]\n",
    "for tool in woodWorkingTools:\n",
    "    print(\"I would like to own a\", tool)\n"
   ]
  },
  {
   "cell_type": "code",
   "execution_count": 8,
   "metadata": {},
   "outputs": [
    {
     "name": "stdout",
     "output_type": "stream",
     "text": [
      "Albert Einstein would you like to have dinner with me?\n",
      "Charles Darwin would you like to have dinner with me?\n",
      "Plato would you like to have dinner with me?\n",
      "Helen Keller would you like to have dinner with me?\n"
     ]
    }
   ],
   "source": [
    "'''\n",
    "Exercise 3.4 - Guest List: If you could invite several famous people (living or deceased) \n",
    "to dinner, who would you invite? Make a list that includes at least three people, then \n",
    "print a message to each person to invite them to dinner.\n",
    "'''\n",
    "\n",
    "famousPeople = [\"Albert Einstein\", \"Charles Darwin\", \"Plato\", \"Helen Keller\"]\n",
    "for person in famousPeople:\n",
    "    print(person, \"would you like to have dinner with me?\")\n"
   ]
  },
  {
   "cell_type": "code",
   "execution_count": 9,
   "metadata": {},
   "outputs": [
    {
     "name": "stdout",
     "output_type": "stream",
     "text": [
      "I'm afraid Plato can't make dinner.\n",
      "Albert Einstein would you like to have dinner with me?\n",
      "Charles Darwin would you like to have dinner with me?\n",
      "Abraham Lincoln would you like to have dinner with me?\n",
      "Helen Keller would you like to have dinner with me?\n"
     ]
    }
   ],
   "source": [
    "'''\n",
    "Exercise 3.5 - Changing Guest List: You just heard that one of your guests can't make \n",
    "dinner, so you need to send out a new set of invitations. You'll have to think of someone \n",
    "else to invite. Start with the program from Exercise 3.4, and add a print statement to \n",
    "say which guest can't make the dinner. Modify the list, replacing the name of the guest \n",
    "that can't make it with the new invited person. Finally, print a second set of invitation \n",
    "messages, one for each person invited to dinner.\n",
    "'''\n",
    "\n",
    "print(\"I'm afraid Plato can't make dinner.\")\n",
    "famousPeople[2] = \"Abraham Lincoln\"\n",
    "for person in famousPeople:\n",
    "    print(person, \"would you like to have dinner with me?\")\n"
   ]
  },
  {
   "cell_type": "code",
   "execution_count": 10,
   "metadata": {},
   "outputs": [
    {
     "name": "stdout",
     "output_type": "stream",
     "text": [
      "Hey everybody I found a bigger table!\n",
      "George Washington would you like to have dinner with me?\n",
      "Albert Einstein would you like to have dinner with me?\n",
      "Charles Darwin would you like to have dinner with me?\n",
      "Benjamin Franklin would you like to have dinner with me?\n",
      "Abraham Lincoln would you like to have dinner with me?\n",
      "Helen Keller would you like to have dinner with me?\n",
      "Socrates would you like to have dinner with me?\n"
     ]
    }
   ],
   "source": [
    "'''\n",
    "Exercise 3.6 - More Guests: You found a bigger dinner table, so now more space is available. \n",
    "Think of three more guests to invite to dinner. Using the program from Exercise 3.5, add a \n",
    "print statement letting your guests know that you have a bigger table. Use the \"insert()\" \n",
    "function to add one new guest to the beginning and middle of your list, and the \"append()\" \n",
    "function to add a guest to the end of the list. Print a new set of invitations, one for each \n",
    "person in your list.\n",
    "'''\n",
    "\n",
    "print(\"Hey everybody I found a bigger table!\")\n",
    "famousPeople.insert(0, \"George Washington\")\n",
    "famousPeople.insert(3, \"Benjamin Franklin\")\n",
    "famousPeople.append(\"Socrates\")\n",
    "for person in famousPeople:\n",
    "    print(person, \"would you like to have dinner with me?\")\n"
   ]
  },
  {
   "cell_type": "code",
   "execution_count": 17,
   "metadata": {},
   "outputs": [
    {
     "name": "stdout",
     "output_type": "stream",
     "text": [
      "Due to unforseen circumstances the new table can't be delivered in time and I will only be able to accomodate two guests. My appologies.\n",
      "I'm sorry Socrates , however I will not have a seat for you at the dinner.\n",
      "I'm sorry Helen Keller , however I will not have a seat for you at the dinner.\n",
      "I'm sorry Abraham Lincoln , however I will not have a seat for you at the dinner.\n",
      "I'm sorry Benjamin Franklin , however I will not have a seat for you at the dinner.\n",
      "I'm sorry Charles Darwin , however I will not have a seat for you at the dinner.\n",
      "Dear, George Washington please still plan on attending the dinner. Thank you.\n",
      "Dear, Albert Einstein please still plan on attending the dinner. Thank you.\n"
     ]
    }
   ],
   "source": [
    "'''\n",
    "Exercise 3.7 - Shrinking Guest List: You found out that the new table can't be delivered \n",
    "in time, and you only have space for two guests. Using the program from Exercise 3.6, add \n",
    "a new line that prints a statement that you can only have two guests at dinner. Use the pop() \n",
    "function to remove guests one at a time until only two guests remain. Each time you pop a \n",
    "name from the list, print a message to the person to apologize for not inviting them to dinner. \n",
    "Print a message to the two people still left on your list, letting them know that they are \n",
    "still invited. Use the \"del\" function to remove the last two names from your list, so you have \n",
    "an empty list. Print your list to show that it is empty.\n",
    "'''\n",
    "\n",
    "print(f\"Due to unforseen circumstances the new table can\\'t be delivered in time and I will\", end=\" \")\n",
    "print(\"only be able to accomodate two guests. My appologies.\")\n",
    "\n",
    "\n",
    "while len(famousPeople) > 2:\n",
    "    guestToGo = famousPeople.pop()\n",
    "    print(f\"I'm sorry {guestToGo} , however I will not have a seat for you at the dinner.\")\n",
    "    \n",
    "for guestsLeft in famousPeople:\n",
    "    print(f\"Dear, {guestsLeft} please still plan on attending the dinner. Thank you.\")\n",
    "\n"
   ]
  },
  {
   "cell_type": "code",
   "execution_count": 18,
   "metadata": {},
   "outputs": [
    {
     "name": "stdout",
     "output_type": "stream",
     "text": [
      "Part 1 -- original un-sorted\n",
      "Original --> ['Seattle', 'Toronto', 'Paris', 'Grand Canyon', 'Scotland']\n",
      "\n",
      "Part 2 -- sorted but original un-changed\n",
      "Sorted --> ['Grand Canyon', 'Paris', 'Scotland', 'Seattle', 'Toronto']\n",
      "Original --> ['Seattle', 'Toronto', 'Paris', 'Grand Canyon', 'Scotland']\n",
      "\n",
      "Part 3 -- reverse sorted but original un-changed\n",
      "Reverse --> ['Toronto', 'Seattle', 'Scotland', 'Paris', 'Grand Canyon']\n",
      "Original --> ['Seattle', 'Toronto', 'Paris', 'Grand Canyon', 'Scotland']\n",
      "\n",
      "Part 4 -- Reverse the order of the list and show it changed\n",
      "Original --> ['Seattle', 'Toronto', 'Paris', 'Grand Canyon', 'Scotland']\n",
      "Reversed --> ['Scotland', 'Grand Canyon', 'Paris', 'Toronto', 'Seattle']\n",
      "\n",
      "Part 5 -- Reverse it back\n",
      "Original --> ['Scotland', 'Grand Canyon', 'Paris', 'Toronto', 'Seattle']\n",
      "Reversed --> ['Seattle', 'Toronto', 'Paris', 'Grand Canyon', 'Scotland']\n",
      "\n",
      "Part 6 -- Sort the list and show it has changed\n",
      "Original --> ['Seattle', 'Toronto', 'Paris', 'Grand Canyon', 'Scotland']\n",
      "Reversed --> ['Grand Canyon', 'Paris', 'Scotland', 'Seattle', 'Toronto']\n",
      "\n",
      "Part 7 -- Sort the list in reverse and show it has changed\n",
      "Original --> ['Grand Canyon', 'Paris', 'Scotland', 'Seattle', 'Toronto']\n",
      "Reversed --> ['Toronto', 'Seattle', 'Scotland', 'Paris', 'Grand Canyon']\n"
     ]
    }
   ],
   "source": [
    "'''\n",
    "Exercise 3.8 - Seeing the World: Think of at least five places in the world that you would \n",
    "like to visit. Store the locations in a list, making sure that they are NOT in alphabetical \n",
    "order. Print your list in its original order (don't worry about printing it neatly; a raw \n",
    "Python list output is fine). Use the \"sorted()\" function to print your list in alphabetical \n",
    "order without modifying the original list. Show that your original list is still unsorted. \n",
    "Use the \"sorted()\" function to print the list in reverse alphabetical order without changing \n",
    "the order of the original list. Again, show that the original list is still unsorted. Use \n",
    "the \"reverse()\" function to change the order of the list, then print it to show the order \n",
    "has changed. Use the \"reverse()\" function again to change the list back to its original order \n",
    "(show the output). Use the \"sort()\" function to change your list so it's stored in alphabetical \n",
    "order, and print the list to show the change. Use \"sort()\" again to store the items in reverse \n",
    "alphabetical order, and print the list to show the change.\n",
    "'''\n",
    "\n",
    "placesToVisit = [\"Seattle\", \"Toronto\", \"Paris\", \"Grand Canyon\", \"Scotland\"]\n",
    "\n",
    "print(\"Part 1 -- original un-sorted\")\n",
    "print(\"Original -->\", placesToVisit)             # Original un-sorted\n",
    "\n",
    "print(\"\\nPart 2 -- sorted but original un-changed\")\n",
    "print(\"Sorted -->\", sorted(placesToVisit))\n",
    "print(\"Original -->\", placesToVisit)\n",
    "\n",
    "print(\"\\nPart 3 -- reverse sorted but original un-changed\")\n",
    "print(\"Reverse -->\", sorted(placesToVisit, reverse=True))\n",
    "print(\"Original -->\", placesToVisit)\n",
    "\n",
    "print(\"\\nPart 4 -- Reverse the order of the list and show it changed\")\n",
    "print(\"Original -->\", placesToVisit)\n",
    "placesToVisit.reverse()\n",
    "print(\"Reversed -->\", placesToVisit)\n",
    "\n",
    "print(\"\\nPart 5 -- Reverse it back\")\n",
    "print(\"Original -->\", placesToVisit)\n",
    "placesToVisit.reverse()\n",
    "print(\"Reversed -->\", placesToVisit)\n",
    "\n",
    "print(\"\\nPart 6 -- Sort the list and show it has changed\")\n",
    "print(\"Original -->\", placesToVisit)\n",
    "placesToVisit.sort()\n",
    "print(\"Reversed -->\", placesToVisit)\n",
    "\n",
    "print(\"\\nPart 7 -- Sort the list in reverse and show it has changed\")\n",
    "print(\"Original -->\", placesToVisit)\n",
    "placesToVisit.sort(reverse=True)\n",
    "print(\"Reversed -->\", placesToVisit)\n"
   ]
  },
  {
   "cell_type": "code",
   "execution_count": 20,
   "metadata": {},
   "outputs": [
    {
     "name": "stdout",
     "output_type": "stream",
     "text": [
      "Number of guests still invited to dinner is 2.\n"
     ]
    }
   ],
   "source": [
    "'''\n",
    "Exercise 3.9 - Dinner Guests: Using one of the lists from Exercises 3.4 through 3.7, \n",
    "use the \"len()\" function to print a message stating how many guests you are inviting to dinner.\n",
    "'''\n",
    "\n",
    "print(f\"Number of guests still invited to dinner is {len(famousPeople)}.\")\n"
   ]
  },
  {
   "cell_type": "code",
   "execution_count": null,
   "metadata": {},
   "outputs": [],
   "source": [
    "'''\n",
    "Exercise 3.11 - Intentional Error: By now, you've probably run into at least \n",
    "one error in your code. In your own words, write a comment explaining what \n",
    "the error was in your program and how you fixed it. This is to help you get \n",
    "used to debugging your program whenever you test the output.\n",
    "'''\n",
    "\n",
    "'''\n",
    "One!  I have at least one in every attempt!\n",
    "\n",
    "I always start a print line with a capital P.\n",
    "I forget to put a colon at the end of an iforn while\n",
    "'''"
   ]
  }
 ],
 "metadata": {
  "kernelspec": {
   "display_name": "Python 3",
   "language": "python",
   "name": "python3"
  },
  "language_info": {
   "codemirror_mode": {
    "name": "ipython",
    "version": 3
   },
   "file_extension": ".py",
   "mimetype": "text/x-python",
   "name": "python",
   "nbconvert_exporter": "python",
   "pygments_lexer": "ipython3",
   "version": "3.7.6"
  }
 },
 "nbformat": 4,
 "nbformat_minor": 4
}
