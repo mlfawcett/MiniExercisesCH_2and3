{
 "cells": [
  {
   "cell_type": "code",
   "execution_count": null,
   "metadata": {},
   "outputs": [],
   "source": [
    "'''\n",
    "Chapter 2 Exercises\n",
    "Write a separate program to accomplish each of these exercises. \n",
    "Save each program with a filename that follows standard Python \n",
    "conventions, using lowercase letters and underscores, such as \n",
    "simple_message.py and simple_messages.py\n",
    "'''"
   ]
  },
  {
   "cell_type": "code",
   "execution_count": 1,
   "metadata": {},
   "outputs": [
    {
     "name": "stdout",
     "output_type": "stream",
     "text": [
      "Hello World!\n"
     ]
    }
   ],
   "source": [
    "# Exercise 2.1 - Simple Message: Store a message in a variable, and then print that message.\n",
    "\n",
    "message_output = \"Hello World!\"\n",
    "print(message_output)"
   ]
  },
  {
   "cell_type": "code",
   "execution_count": 2,
   "metadata": {},
   "outputs": [
    {
     "name": "stdout",
     "output_type": "stream",
     "text": [
      "Why do we start with Hello World!\n"
     ]
    }
   ],
   "source": [
    "# Exercise 2.2 - Simple Messages: Change the value of the message stored in the variable\n",
    "# from Exercise 2.1, then print the new message.\n",
    "\n",
    "message_output = \"Why do we start with Hello World!\"\n",
    "print(message_output)"
   ]
  },
  {
   "cell_type": "code",
   "execution_count": 3,
   "metadata": {},
   "outputs": [
    {
     "name": "stdout",
     "output_type": "stream",
     "text": [
      "Hello Michael, would you like to learn some Python today?\n"
     ]
    }
   ],
   "source": [
    "'''\n",
    "Exercise 2.3 - Personal Message: Store a person's name in a variable, and print a message\n",
    "to that person. Your message should be simple such as, \"Hello Eric, would you like to \n",
    "learn some Python today?\"\n",
    "'''\n",
    "some_name = \"Michael\"\n",
    "print(f\"Hello {some_name}, would you like to learn some Python today?\")"
   ]
  },
  {
   "cell_type": "code",
   "execution_count": 4,
   "metadata": {},
   "outputs": [
    {
     "name": "stdout",
     "output_type": "stream",
     "text": [
      "Michael\n",
      "MICHAEL\n",
      "\n",
      "\n",
      "Michael\n",
      "michael\n",
      "\n",
      "\n",
      "Michael\n",
      "Michael\n"
     ]
    }
   ],
   "source": [
    "# Exercise 2.4 - Name Cases: Using the name stored in the variable from Exercise 2.3, print \n",
    "# that person's name in uppercase, lowercase, and titlecase.\n",
    "\n",
    "print(some_name)\n",
    "print(some_name.upper())\n",
    "\n",
    "print(\"\\n\")\n",
    "\n",
    "print(some_name)\n",
    "print(some_name.lower())\n",
    "\n",
    "print(\"\\n\")\n",
    "\n",
    "print(some_name)\n",
    "print(some_name.title())"
   ]
  },
  {
   "cell_type": "code",
   "execution_count": 5,
   "metadata": {},
   "outputs": [
    {
     "name": "stdout",
     "output_type": "stream",
     "text": [
      "Kurt Vonnegut once said, \"Those who believe in telekinetics, raise my hand.\"\n"
     ]
    }
   ],
   "source": [
    "'''\n",
    "Exercise 2.5 - Famous Quote: Find a quote from a famous person you admire. Print the quote \n",
    "and the name of the author. Your output should look something like the following, including \n",
    "the quotation marks: Albert Einstein once said, \"A person who never made a mistake never \n",
    "tried anything new.\"\n",
    "'''\n",
    "\n",
    "print('Kurt Vonnegut once said, \"Those who believe in telekinetics, raise my hand.\"')"
   ]
  },
  {
   "cell_type": "code",
   "execution_count": 8,
   "metadata": {},
   "outputs": [
    {
     "name": "stdout",
     "output_type": "stream",
     "text": [
      "Kurt Vonnegut once said, Those who believe in telekinetics, raise my hand.\n",
      "\n",
      "---OR---\n",
      "\n",
      "Kurt Vonnegut once said, Those who believe in telekinetics, raise my hand.\n"
     ]
    }
   ],
   "source": [
    "'''\n",
    "Exercise 2.6 - Famous Quote 2: This time, store the famous person's name in a variable called \n",
    "famous_person and store the entire message for the quote in a new variable called message. \n",
    "Print your message.\n",
    "'''\n",
    "\n",
    "famous_person = \"Kurt Vonnegut\"\n",
    "message = \"Those who believe in telekinetics, raise my hand.\"\n",
    "\n",
    "print(f\"{famous_person} once said, {message}\")\n",
    "#OR\n",
    "print(\"\\n---OR---\\n\")\n",
    "print(famous_person, \"once said,\", message)"
   ]
  },
  {
   "cell_type": "code",
   "execution_count": 15,
   "metadata": {},
   "outputs": [
    {
     "name": "stdout",
     "output_type": "stream",
     "text": [
      "---------\n",
      "\n",
      "\t michael fawcett\n",
      "\n",
      "\n",
      "---------\n",
      "michael fawcett\n",
      "\n",
      "\n",
      "---------\n",
      "\n",
      "\t michael fawcett\n",
      "---------\n",
      "michael fawcett\n",
      "---------\n"
     ]
    }
   ],
   "source": [
    "'''\n",
    "Exercise 2.7 - Stripping Names: Store a person's name, and include some whitespace characters \n",
    "at the beginning and end of the name. Make sure you use each character combination, \"\\t\" and \"\\n\" \n",
    "at least once. Print the name so the whitespace around the name is displayed. Then print the \n",
    "name using each of the three stripping functions, lstrip(), rstrip(), and strip().\n",
    "'''\n",
    "\n",
    "personsName = \"\\n\\t michael fawcett\\n\\n\"\n",
    "print(\"---------\")\n",
    "print(personsName)\n",
    "print(\"---------\")\n",
    "print(personsName.lstrip())  # This will strip off the first linefeed, tab and space.\n",
    "print(\"---------\")\n",
    "print(personsName.rstrip())  # This will strip off the last 2 linefeeds.\n",
    "print(\"---------\")\n",
    "print(personsName.strip())   # This will strip off the first linefeed, tab, space and the last 2 linefeeds.\n",
    "print(\"---------\")"
   ]
  },
  {
   "cell_type": "code",
   "execution_count": 10,
   "metadata": {},
   "outputs": [
    {
     "name": "stdout",
     "output_type": "stream",
     "text": [
      "8\n",
      "8\n",
      "8\n",
      "8.0\n",
      "\n",
      "---OR---\n",
      "\n",
      "8\n",
      "8\n",
      "8\n",
      "8.0\n"
     ]
    }
   ],
   "source": [
    "'''\n",
    "Exercise 2.8 - Number Eight: Write addition, subtraction, multiplication, and division \n",
    "operations that each result in the number 8. Be sure to enclose your operations in print \n",
    "statements to see the results. You should create four separate lines of code in the program \n",
    "for each operation.\n",
    "'''\n",
    "\n",
    "# I'm not sure if you want 4 lines of code or 16 lines of code\n",
    "\n",
    "# This is with 4 lines\n",
    "print(5+3)\n",
    "print(11-3)\n",
    "print(2*4)\n",
    "print(16/2)\n",
    "\n",
    "# OR\n",
    "# This is with 16 lines\n",
    "print(\"\\n---OR---\\n\")\n",
    "\n",
    "x = 5\n",
    "y = 3\n",
    "z = x+y\n",
    "print(z)\n",
    "\n",
    "x = 11\n",
    "y = 3\n",
    "z = x-y\n",
    "print(z)\n",
    "\n",
    "x = 2\n",
    "y = 4\n",
    "z = x*y\n",
    "print(z)\n",
    "\n",
    "x = 16\n",
    "y = 2\n",
    "z = x/y\n",
    "print(z)"
   ]
  },
  {
   "cell_type": "code",
   "execution_count": 11,
   "metadata": {},
   "outputs": [
    {
     "name": "stdout",
     "output_type": "stream",
     "text": [
      "This is my favorite number:5\n",
      "\n",
      "---OR---\n",
      "\n",
      "This is my favorite number: 5\n"
     ]
    }
   ],
   "source": [
    "'''\n",
    "Exercise 2.9 - Favorite Number: Store your favorite number in a variable. Then using \n",
    "that variable, create a message that reveals your favorite number. Print the message.\n",
    "'''\n",
    "\n",
    "favoriteNumber = 5\n",
    "messageString = \"This is my favorite number:\"\n",
    "print(f\"{messageString}{favoriteNumber}\")\n",
    "\n",
    "# OR\n",
    "print(\"\\n---OR---\\n\")\n",
    "print(messageString, favoriteNumber)"
   ]
  },
  {
   "cell_type": "code",
   "execution_count": null,
   "metadata": {},
   "outputs": [],
   "source": [
    "'''\n",
    "Exercise 2.10 - Adding Comments: Choose two of the programs you've created from the \n",
    "previous exercises and add at least one comment to each.\n",
    "'''\n",
    "# Already did that"
   ]
  }
 ],
 "metadata": {
  "kernelspec": {
   "display_name": "Python 3",
   "language": "python",
   "name": "python3"
  },
  "language_info": {
   "codemirror_mode": {
    "name": "ipython",
    "version": 3
   },
   "file_extension": ".py",
   "mimetype": "text/x-python",
   "name": "python",
   "nbconvert_exporter": "python",
   "pygments_lexer": "ipython3",
   "version": "3.7.6"
  }
 },
 "nbformat": 4,
 "nbformat_minor": 4
}
